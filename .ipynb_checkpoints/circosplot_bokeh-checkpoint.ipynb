{
 "cells": [
  {
   "cell_type": "markdown",
   "metadata": {},
   "source": [
    "# Interactive circos-like plots with Bokeh"
   ]
  },
  {
   "cell_type": "markdown",
   "metadata": {},
   "source": [
    "<u>Prototyping for proteomic and phosphoproteomic datasets.</u> <br>\n",
    "<b>Goals:</b> Clickable links to protein descriptions, ability to show multiple (large) datasets<br>\n",
    "<b>Open questions:</b> How to represent proteins with multiple peptides/phosphorylations? How to categorize the proteins (which ontology?)"
   ]
  },
  {
   "cell_type": "code",
   "execution_count": null,
   "metadata": {
    "collapsed": true
   },
   "outputs": [],
   "source": [
    "from bokeh.plotting import figure, show\n",
    "from bokeh.io import output_notebook\n",
    "from bokeh.models import TapTool, OpenURL, ColumnDataSource\n",
    "\n",
    "import numpy as np\n",
    "import pandas as pd"
   ]
  },
  {
   "cell_type": "code",
   "execution_count": null,
   "metadata": {
    "collapsed": false
   },
   "outputs": [],
   "source": [
    "# this line necessary to view the figure in the notebook\n",
    "output_notebook() "
   ]
  },
  {
   "cell_type": "code",
   "execution_count": null,
   "metadata": {
    "collapsed": false
   },
   "outputs": [],
   "source": [
    "# acquiring the data\n",
    "# ID, chromosome, location, intensity\n",
    "# index by chromosome, location in pandas? \n",
    "\n",
    "file = \"pro_test_data.csv\"\n",
    "data = pd.read_csv(file)\n",
    "\n",
    "# select only the top most intense peptide for the protein. Is this the best way? Will likely change.\n",
    "data = data.iloc[data.groupby(['Protein Group Accessions']).apply(lambda x: x['Intensity'].idxmax())]\n",
    "data = data\n",
    "data.set_index('Protein Group Accessions')"
   ]
  },
  {
   "cell_type": "markdown",
   "metadata": {},
   "source": [
    "The following code is based on the burtin example in the Bokeh gallery: http://bokeh.pydata.org/en/latest/docs/gallery/burtin.html"
   ]
  },
  {
   "cell_type": "code",
   "execution_count": null,
   "metadata": {
    "collapsed": false
   },
   "outputs": [],
   "source": [
    "# setting dimensions for the figure, as well as for the inner/outer radii\n",
    "width = 800\n",
    "height = 800\n",
    "\n",
    "inner_radius = 150\n",
    "outer_radius = 350\n",
    "\n",
    "minr = np.sqrt(np.log(.001 * 1E4))\n",
    "maxr = np.sqrt(np.log(1000000 * 1E4))\n",
    "a = (outer_radius - inner_radius) / (minr - maxr)\n",
    "b = inner_radius - a * maxr\n",
    "\n",
    "def rad(mic):\n",
    "    return a * np.sqrt(np.log(mic * 1000000)) + b\n",
    "\n",
    "big_angle = 2.0 * np.pi / (len(data) + 1)\n",
    "small_angle = big_angle / 7\n",
    "angles = np.pi/2 - big_angle/2 - data.index.to_series()*big_angle"
   ]
  },
  {
   "cell_type": "code",
   "execution_count": null,
   "metadata": {
    "collapsed": false
   },
   "outputs": [],
   "source": [
    "# plotting the figure\n",
    "data_s = ColumnDataSource(data=dict(\n",
    "    intensity=data.Intensity,\n",
    "    ID = data['Protein Group Accessions']\n",
    "    ))\n",
    "\n",
    "p = figure(plot_width=width, plot_height=height, title=\"\",\n",
    "    x_axis_type=None, y_axis_type=None,\n",
    "    x_range=(-420, 420), y_range=(-420, 420),\n",
    "    min_border=0, outline_line_color=\"black\", background_fill_color=\"white\",\n",
    "    border_fill_color=\"white\", tools = \"wheel_zoom, crosshair, tap, pan, reset\")\n",
    "\n",
    "p.xgrid.grid_line_color = None\n",
    "p.ygrid.grid_line_color = None\n",
    "\n",
    "p.annular_wedge(x=0, \n",
    "                y=0, \n",
    "                outer_radius=outer_radius, \n",
    "                inner_radius=rad(data.Intensity/100000000), \n",
    "                start_angle=-big_angle+angles+1*small_angle, \n",
    "                end_angle=-big_angle+angles+2*small_angle,\n",
    "                color='#4daf4a',\n",
    "                source=data_s\n",
    "                )\n",
    "\n",
    "# configure the tap tool\n",
    "url = \"http://www.uniprot.org/uniprot/@ID\"\n",
    "taptool = p.select(dict(type=TapTool))\n",
    "taptool.callback = OpenURL(url=url)"
   ]
  },
  {
   "cell_type": "code",
   "execution_count": null,
   "metadata": {
    "collapsed": false,
    "scrolled": true
   },
   "outputs": [],
   "source": [
    "show (p)"
   ]
  },
  {
   "cell_type": "markdown",
   "metadata": {},
   "source": [
    "Seems to work! But the dataset is pretty large, and it's hard to click on the right glyph. "
   ]
  }
 ],
 "metadata": {
  "kernelspec": {
   "display_name": "Python 3",
   "language": "python",
   "name": "python3"
  },
  "language_info": {
   "codemirror_mode": {
    "name": "ipython",
    "version": 3
   },
   "file_extension": ".py",
   "mimetype": "text/x-python",
   "name": "python",
   "nbconvert_exporter": "python",
   "pygments_lexer": "ipython3",
   "version": "3.5.2"
  }
 },
 "nbformat": 4,
 "nbformat_minor": 0
}
